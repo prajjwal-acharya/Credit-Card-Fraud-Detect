{
 "cells": [
  {
   "cell_type": "code",
   "execution_count": 1,
   "id": "5635791f",
   "metadata": {
    "_cell_guid": "b1076dfc-b9ad-4769-8c92-a6c4dae69d19",
    "_uuid": "8f2839f25d086af736a60e9eeb907d3b93b6e0e5",
    "execution": {
     "iopub.execute_input": "2024-12-25T12:49:07.845228Z",
     "iopub.status.busy": "2024-12-25T12:49:07.844859Z",
     "iopub.status.idle": "2024-12-25T12:49:08.221265Z",
     "shell.execute_reply": "2024-12-25T12:49:08.220062Z"
    },
    "papermill": {
     "duration": 0.385138,
     "end_time": "2024-12-25T12:49:08.222904",
     "exception": false,
     "start_time": "2024-12-25T12:49:07.837766",
     "status": "completed"
    },
    "tags": []
   },
   "outputs": [
    {
     "name": "stdout",
     "output_type": "stream",
     "text": [
      "/kaggle/input/creditcardfraud/creditcard.csv\n"
     ]
    }
   ],
   "source": [
    "# This Python 3 environment comes with many helpful analytics libraries installed\n",
    "# It is defined by the kaggle/python Docker image: https://github.com/kaggle/docker-python\n",
    "# For example, here's several helpful packages to load\n",
    "\n",
    "import numpy as np # linear algebra\n",
    "import pandas as pd # data processing, CSV file I/O (e.g. pd.read_csv)\n",
    "\n",
    "# Input data files are available in the read-only \"../input/\" directory\n",
    "# For example, running this (by clicking run or pressing Shift+Enter) will list all files under the input directory\n",
    "\n",
    "import os\n",
    "for dirname, _, filenames in os.walk('/kaggle/input'):\n",
    "    for filename in filenames:\n",
    "        print(os.path.join(dirname, filename))\n",
    "\n",
    "# You can write up to 20GB to the current directory (/kaggle/working/) that gets preserved as output when you create a version using \"Save & Run All\" \n",
    "# You can also write temporary files to /kaggle/temp/, but they won't be saved outside of the current session"
   ]
  },
  {
   "cell_type": "code",
   "execution_count": 2,
   "id": "fe668041",
   "metadata": {
    "execution": {
     "iopub.execute_input": "2024-12-25T12:49:08.234801Z",
     "iopub.status.busy": "2024-12-25T12:49:08.234277Z",
     "iopub.status.idle": "2024-12-25T12:49:09.569259Z",
     "shell.execute_reply": "2024-12-25T12:49:09.568105Z"
    },
    "papermill": {
     "duration": 1.342866,
     "end_time": "2024-12-25T12:49:09.571187",
     "exception": false,
     "start_time": "2024-12-25T12:49:08.228321",
     "status": "completed"
    },
    "tags": []
   },
   "outputs": [],
   "source": [
    "import numpy as np\n",
    "import pandas as pd\n",
    "\n",
    "from sklearn.model_selection import train_test_split\n",
    "from sklearn.linear_model import LogisticRegression\n",
    "from sklearn.metrics import accuracy_score"
   ]
  },
  {
   "cell_type": "code",
   "execution_count": 3,
   "id": "96925b62",
   "metadata": {
    "execution": {
     "iopub.execute_input": "2024-12-25T12:49:09.582755Z",
     "iopub.status.busy": "2024-12-25T12:49:09.582299Z",
     "iopub.status.idle": "2024-12-25T12:49:13.890382Z",
     "shell.execute_reply": "2024-12-25T12:49:13.889348Z"
    },
    "papermill": {
     "duration": 4.315867,
     "end_time": "2024-12-25T12:49:13.892303",
     "exception": false,
     "start_time": "2024-12-25T12:49:09.576436",
     "status": "completed"
    },
    "tags": []
   },
   "outputs": [],
   "source": [
    "credit_card_data = pd.read_csv('/kaggle/input/creditcardfraud/creditcard.csv')"
   ]
  },
  {
   "cell_type": "code",
   "execution_count": 4,
   "id": "68b5c010",
   "metadata": {
    "execution": {
     "iopub.execute_input": "2024-12-25T12:49:13.904231Z",
     "iopub.status.busy": "2024-12-25T12:49:13.903919Z",
     "iopub.status.idle": "2024-12-25T12:49:13.936917Z",
     "shell.execute_reply": "2024-12-25T12:49:13.935840Z"
    },
    "papermill": {
     "duration": 0.040831,
     "end_time": "2024-12-25T12:49:13.938533",
     "exception": false,
     "start_time": "2024-12-25T12:49:13.897702",
     "status": "completed"
    },
    "tags": []
   },
   "outputs": [
    {
     "data": {
      "text/html": [
       "<div>\n",
       "<style scoped>\n",
       "    .dataframe tbody tr th:only-of-type {\n",
       "        vertical-align: middle;\n",
       "    }\n",
       "\n",
       "    .dataframe tbody tr th {\n",
       "        vertical-align: top;\n",
       "    }\n",
       "\n",
       "    .dataframe thead th {\n",
       "        text-align: right;\n",
       "    }\n",
       "</style>\n",
       "<table border=\"1\" class=\"dataframe\">\n",
       "  <thead>\n",
       "    <tr style=\"text-align: right;\">\n",
       "      <th></th>\n",
       "      <th>Time</th>\n",
       "      <th>V1</th>\n",
       "      <th>V2</th>\n",
       "      <th>V3</th>\n",
       "      <th>V4</th>\n",
       "      <th>V5</th>\n",
       "      <th>V6</th>\n",
       "      <th>V7</th>\n",
       "      <th>V8</th>\n",
       "      <th>V9</th>\n",
       "      <th>...</th>\n",
       "      <th>V21</th>\n",
       "      <th>V22</th>\n",
       "      <th>V23</th>\n",
       "      <th>V24</th>\n",
       "      <th>V25</th>\n",
       "      <th>V26</th>\n",
       "      <th>V27</th>\n",
       "      <th>V28</th>\n",
       "      <th>Amount</th>\n",
       "      <th>Class</th>\n",
       "    </tr>\n",
       "  </thead>\n",
       "  <tbody>\n",
       "    <tr>\n",
       "      <th>0</th>\n",
       "      <td>0.0</td>\n",
       "      <td>-1.359807</td>\n",
       "      <td>-0.072781</td>\n",
       "      <td>2.536347</td>\n",
       "      <td>1.378155</td>\n",
       "      <td>-0.338321</td>\n",
       "      <td>0.462388</td>\n",
       "      <td>0.239599</td>\n",
       "      <td>0.098698</td>\n",
       "      <td>0.363787</td>\n",
       "      <td>...</td>\n",
       "      <td>-0.018307</td>\n",
       "      <td>0.277838</td>\n",
       "      <td>-0.110474</td>\n",
       "      <td>0.066928</td>\n",
       "      <td>0.128539</td>\n",
       "      <td>-0.189115</td>\n",
       "      <td>0.133558</td>\n",
       "      <td>-0.021053</td>\n",
       "      <td>149.62</td>\n",
       "      <td>0</td>\n",
       "    </tr>\n",
       "    <tr>\n",
       "      <th>1</th>\n",
       "      <td>0.0</td>\n",
       "      <td>1.191857</td>\n",
       "      <td>0.266151</td>\n",
       "      <td>0.166480</td>\n",
       "      <td>0.448154</td>\n",
       "      <td>0.060018</td>\n",
       "      <td>-0.082361</td>\n",
       "      <td>-0.078803</td>\n",
       "      <td>0.085102</td>\n",
       "      <td>-0.255425</td>\n",
       "      <td>...</td>\n",
       "      <td>-0.225775</td>\n",
       "      <td>-0.638672</td>\n",
       "      <td>0.101288</td>\n",
       "      <td>-0.339846</td>\n",
       "      <td>0.167170</td>\n",
       "      <td>0.125895</td>\n",
       "      <td>-0.008983</td>\n",
       "      <td>0.014724</td>\n",
       "      <td>2.69</td>\n",
       "      <td>0</td>\n",
       "    </tr>\n",
       "    <tr>\n",
       "      <th>2</th>\n",
       "      <td>1.0</td>\n",
       "      <td>-1.358354</td>\n",
       "      <td>-1.340163</td>\n",
       "      <td>1.773209</td>\n",
       "      <td>0.379780</td>\n",
       "      <td>-0.503198</td>\n",
       "      <td>1.800499</td>\n",
       "      <td>0.791461</td>\n",
       "      <td>0.247676</td>\n",
       "      <td>-1.514654</td>\n",
       "      <td>...</td>\n",
       "      <td>0.247998</td>\n",
       "      <td>0.771679</td>\n",
       "      <td>0.909412</td>\n",
       "      <td>-0.689281</td>\n",
       "      <td>-0.327642</td>\n",
       "      <td>-0.139097</td>\n",
       "      <td>-0.055353</td>\n",
       "      <td>-0.059752</td>\n",
       "      <td>378.66</td>\n",
       "      <td>0</td>\n",
       "    </tr>\n",
       "    <tr>\n",
       "      <th>3</th>\n",
       "      <td>1.0</td>\n",
       "      <td>-0.966272</td>\n",
       "      <td>-0.185226</td>\n",
       "      <td>1.792993</td>\n",
       "      <td>-0.863291</td>\n",
       "      <td>-0.010309</td>\n",
       "      <td>1.247203</td>\n",
       "      <td>0.237609</td>\n",
       "      <td>0.377436</td>\n",
       "      <td>-1.387024</td>\n",
       "      <td>...</td>\n",
       "      <td>-0.108300</td>\n",
       "      <td>0.005274</td>\n",
       "      <td>-0.190321</td>\n",
       "      <td>-1.175575</td>\n",
       "      <td>0.647376</td>\n",
       "      <td>-0.221929</td>\n",
       "      <td>0.062723</td>\n",
       "      <td>0.061458</td>\n",
       "      <td>123.50</td>\n",
       "      <td>0</td>\n",
       "    </tr>\n",
       "    <tr>\n",
       "      <th>4</th>\n",
       "      <td>2.0</td>\n",
       "      <td>-1.158233</td>\n",
       "      <td>0.877737</td>\n",
       "      <td>1.548718</td>\n",
       "      <td>0.403034</td>\n",
       "      <td>-0.407193</td>\n",
       "      <td>0.095921</td>\n",
       "      <td>0.592941</td>\n",
       "      <td>-0.270533</td>\n",
       "      <td>0.817739</td>\n",
       "      <td>...</td>\n",
       "      <td>-0.009431</td>\n",
       "      <td>0.798278</td>\n",
       "      <td>-0.137458</td>\n",
       "      <td>0.141267</td>\n",
       "      <td>-0.206010</td>\n",
       "      <td>0.502292</td>\n",
       "      <td>0.219422</td>\n",
       "      <td>0.215153</td>\n",
       "      <td>69.99</td>\n",
       "      <td>0</td>\n",
       "    </tr>\n",
       "  </tbody>\n",
       "</table>\n",
       "<p>5 rows × 31 columns</p>\n",
       "</div>"
      ],
      "text/plain": [
       "   Time        V1        V2        V3        V4        V5        V6        V7  \\\n",
       "0   0.0 -1.359807 -0.072781  2.536347  1.378155 -0.338321  0.462388  0.239599   \n",
       "1   0.0  1.191857  0.266151  0.166480  0.448154  0.060018 -0.082361 -0.078803   \n",
       "2   1.0 -1.358354 -1.340163  1.773209  0.379780 -0.503198  1.800499  0.791461   \n",
       "3   1.0 -0.966272 -0.185226  1.792993 -0.863291 -0.010309  1.247203  0.237609   \n",
       "4   2.0 -1.158233  0.877737  1.548718  0.403034 -0.407193  0.095921  0.592941   \n",
       "\n",
       "         V8        V9  ...       V21       V22       V23       V24       V25  \\\n",
       "0  0.098698  0.363787  ... -0.018307  0.277838 -0.110474  0.066928  0.128539   \n",
       "1  0.085102 -0.255425  ... -0.225775 -0.638672  0.101288 -0.339846  0.167170   \n",
       "2  0.247676 -1.514654  ...  0.247998  0.771679  0.909412 -0.689281 -0.327642   \n",
       "3  0.377436 -1.387024  ... -0.108300  0.005274 -0.190321 -1.175575  0.647376   \n",
       "4 -0.270533  0.817739  ... -0.009431  0.798278 -0.137458  0.141267 -0.206010   \n",
       "\n",
       "        V26       V27       V28  Amount  Class  \n",
       "0 -0.189115  0.133558 -0.021053  149.62      0  \n",
       "1  0.125895 -0.008983  0.014724    2.69      0  \n",
       "2 -0.139097 -0.055353 -0.059752  378.66      0  \n",
       "3 -0.221929  0.062723  0.061458  123.50      0  \n",
       "4  0.502292  0.219422  0.215153   69.99      0  \n",
       "\n",
       "[5 rows x 31 columns]"
      ]
     },
     "execution_count": 4,
     "metadata": {},
     "output_type": "execute_result"
    }
   ],
   "source": [
    "credit_card_data.head()"
   ]
  },
  {
   "cell_type": "code",
   "execution_count": 5,
   "id": "a1b6e790",
   "metadata": {
    "execution": {
     "iopub.execute_input": "2024-12-25T12:49:13.950629Z",
     "iopub.status.busy": "2024-12-25T12:49:13.950313Z",
     "iopub.status.idle": "2024-12-25T12:49:13.971949Z",
     "shell.execute_reply": "2024-12-25T12:49:13.970891Z"
    },
    "papermill": {
     "duration": 0.029505,
     "end_time": "2024-12-25T12:49:13.973575",
     "exception": false,
     "start_time": "2024-12-25T12:49:13.944070",
     "status": "completed"
    },
    "tags": []
   },
   "outputs": [
    {
     "data": {
      "text/plain": [
       "Time      0\n",
       "V1        0\n",
       "V2        0\n",
       "V3        0\n",
       "V4        0\n",
       "V5        0\n",
       "V6        0\n",
       "V7        0\n",
       "V8        0\n",
       "V9        0\n",
       "V10       0\n",
       "V11       0\n",
       "V12       0\n",
       "V13       0\n",
       "V14       0\n",
       "V15       0\n",
       "V16       0\n",
       "V17       0\n",
       "V18       0\n",
       "V19       0\n",
       "V20       0\n",
       "V21       0\n",
       "V22       0\n",
       "V23       0\n",
       "V24       0\n",
       "V25       0\n",
       "V26       0\n",
       "V27       0\n",
       "V28       0\n",
       "Amount    0\n",
       "Class     0\n",
       "dtype: int64"
      ]
     },
     "execution_count": 5,
     "metadata": {},
     "output_type": "execute_result"
    }
   ],
   "source": [
    "credit_card_data.isnull().sum()"
   ]
  },
  {
   "cell_type": "code",
   "execution_count": 6,
   "id": "6c96f663",
   "metadata": {
    "execution": {
     "iopub.execute_input": "2024-12-25T12:49:13.986064Z",
     "iopub.status.busy": "2024-12-25T12:49:13.985596Z",
     "iopub.status.idle": "2024-12-25T12:49:14.025234Z",
     "shell.execute_reply": "2024-12-25T12:49:14.024081Z"
    },
    "papermill": {
     "duration": 0.047887,
     "end_time": "2024-12-25T12:49:14.027029",
     "exception": false,
     "start_time": "2024-12-25T12:49:13.979142",
     "status": "completed"
    },
    "tags": []
   },
   "outputs": [
    {
     "name": "stdout",
     "output_type": "stream",
     "text": [
      "<class 'pandas.core.frame.DataFrame'>\n",
      "RangeIndex: 284807 entries, 0 to 284806\n",
      "Data columns (total 31 columns):\n",
      " #   Column  Non-Null Count   Dtype  \n",
      "---  ------  --------------   -----  \n",
      " 0   Time    284807 non-null  float64\n",
      " 1   V1      284807 non-null  float64\n",
      " 2   V2      284807 non-null  float64\n",
      " 3   V3      284807 non-null  float64\n",
      " 4   V4      284807 non-null  float64\n",
      " 5   V5      284807 non-null  float64\n",
      " 6   V6      284807 non-null  float64\n",
      " 7   V7      284807 non-null  float64\n",
      " 8   V8      284807 non-null  float64\n",
      " 9   V9      284807 non-null  float64\n",
      " 10  V10     284807 non-null  float64\n",
      " 11  V11     284807 non-null  float64\n",
      " 12  V12     284807 non-null  float64\n",
      " 13  V13     284807 non-null  float64\n",
      " 14  V14     284807 non-null  float64\n",
      " 15  V15     284807 non-null  float64\n",
      " 16  V16     284807 non-null  float64\n",
      " 17  V17     284807 non-null  float64\n",
      " 18  V18     284807 non-null  float64\n",
      " 19  V19     284807 non-null  float64\n",
      " 20  V20     284807 non-null  float64\n",
      " 21  V21     284807 non-null  float64\n",
      " 22  V22     284807 non-null  float64\n",
      " 23  V23     284807 non-null  float64\n",
      " 24  V24     284807 non-null  float64\n",
      " 25  V25     284807 non-null  float64\n",
      " 26  V26     284807 non-null  float64\n",
      " 27  V27     284807 non-null  float64\n",
      " 28  V28     284807 non-null  float64\n",
      " 29  Amount  284807 non-null  float64\n",
      " 30  Class   284807 non-null  int64  \n",
      "dtypes: float64(30), int64(1)\n",
      "memory usage: 67.4 MB\n"
     ]
    }
   ],
   "source": [
    "credit_card_data.info()"
   ]
  },
  {
   "cell_type": "code",
   "execution_count": 7,
   "id": "8ed25d2b",
   "metadata": {
    "execution": {
     "iopub.execute_input": "2024-12-25T12:49:14.039947Z",
     "iopub.status.busy": "2024-12-25T12:49:14.039567Z",
     "iopub.status.idle": "2024-12-25T12:49:14.049721Z",
     "shell.execute_reply": "2024-12-25T12:49:14.048658Z"
    },
    "papermill": {
     "duration": 0.01854,
     "end_time": "2024-12-25T12:49:14.051623",
     "exception": false,
     "start_time": "2024-12-25T12:49:14.033083",
     "status": "completed"
    },
    "tags": []
   },
   "outputs": [
    {
     "data": {
      "text/plain": [
       "Class\n",
       "0    284315\n",
       "1       492\n",
       "Name: count, dtype: int64"
      ]
     },
     "execution_count": 7,
     "metadata": {},
     "output_type": "execute_result"
    }
   ],
   "source": [
    "credit_card_data['Class'].value_counts()"
   ]
  },
  {
   "cell_type": "code",
   "execution_count": 8,
   "id": "7d04b662",
   "metadata": {
    "execution": {
     "iopub.execute_input": "2024-12-25T12:49:14.070124Z",
     "iopub.status.busy": "2024-12-25T12:49:14.069647Z",
     "iopub.status.idle": "2024-12-25T12:49:14.115374Z",
     "shell.execute_reply": "2024-12-25T12:49:14.114356Z"
    },
    "papermill": {
     "duration": 0.055248,
     "end_time": "2024-12-25T12:49:14.117289",
     "exception": false,
     "start_time": "2024-12-25T12:49:14.062041",
     "status": "completed"
    },
    "tags": []
   },
   "outputs": [],
   "source": [
    "legit = credit_card_data[credit_card_data.Class == 0]\n",
    "fraud = credit_card_data[credit_card_data.Class == 1]"
   ]
  },
  {
   "cell_type": "code",
   "execution_count": 9,
   "id": "d3aae80f",
   "metadata": {
    "execution": {
     "iopub.execute_input": "2024-12-25T12:49:14.129964Z",
     "iopub.status.busy": "2024-12-25T12:49:14.129601Z",
     "iopub.status.idle": "2024-12-25T12:49:14.151607Z",
     "shell.execute_reply": "2024-12-25T12:49:14.150422Z"
    },
    "papermill": {
     "duration": 0.030207,
     "end_time": "2024-12-25T12:49:14.153324",
     "exception": false,
     "start_time": "2024-12-25T12:49:14.123117",
     "status": "completed"
    },
    "tags": []
   },
   "outputs": [
    {
     "data": {
      "text/html": [
       "<div>\n",
       "<style scoped>\n",
       "    .dataframe tbody tr th:only-of-type {\n",
       "        vertical-align: middle;\n",
       "    }\n",
       "\n",
       "    .dataframe tbody tr th {\n",
       "        vertical-align: top;\n",
       "    }\n",
       "\n",
       "    .dataframe thead th {\n",
       "        text-align: right;\n",
       "    }\n",
       "</style>\n",
       "<table border=\"1\" class=\"dataframe\">\n",
       "  <thead>\n",
       "    <tr style=\"text-align: right;\">\n",
       "      <th></th>\n",
       "      <th>Time</th>\n",
       "      <th>V1</th>\n",
       "      <th>V2</th>\n",
       "      <th>V3</th>\n",
       "      <th>V4</th>\n",
       "      <th>V5</th>\n",
       "      <th>V6</th>\n",
       "      <th>V7</th>\n",
       "      <th>V8</th>\n",
       "      <th>V9</th>\n",
       "      <th>...</th>\n",
       "      <th>V21</th>\n",
       "      <th>V22</th>\n",
       "      <th>V23</th>\n",
       "      <th>V24</th>\n",
       "      <th>V25</th>\n",
       "      <th>V26</th>\n",
       "      <th>V27</th>\n",
       "      <th>V28</th>\n",
       "      <th>Amount</th>\n",
       "      <th>Class</th>\n",
       "    </tr>\n",
       "  </thead>\n",
       "  <tbody>\n",
       "    <tr>\n",
       "      <th>0</th>\n",
       "      <td>0.0</td>\n",
       "      <td>-1.359807</td>\n",
       "      <td>-0.072781</td>\n",
       "      <td>2.536347</td>\n",
       "      <td>1.378155</td>\n",
       "      <td>-0.338321</td>\n",
       "      <td>0.462388</td>\n",
       "      <td>0.239599</td>\n",
       "      <td>0.098698</td>\n",
       "      <td>0.363787</td>\n",
       "      <td>...</td>\n",
       "      <td>-0.018307</td>\n",
       "      <td>0.277838</td>\n",
       "      <td>-0.110474</td>\n",
       "      <td>0.066928</td>\n",
       "      <td>0.128539</td>\n",
       "      <td>-0.189115</td>\n",
       "      <td>0.133558</td>\n",
       "      <td>-0.021053</td>\n",
       "      <td>149.62</td>\n",
       "      <td>0</td>\n",
       "    </tr>\n",
       "    <tr>\n",
       "      <th>1</th>\n",
       "      <td>0.0</td>\n",
       "      <td>1.191857</td>\n",
       "      <td>0.266151</td>\n",
       "      <td>0.166480</td>\n",
       "      <td>0.448154</td>\n",
       "      <td>0.060018</td>\n",
       "      <td>-0.082361</td>\n",
       "      <td>-0.078803</td>\n",
       "      <td>0.085102</td>\n",
       "      <td>-0.255425</td>\n",
       "      <td>...</td>\n",
       "      <td>-0.225775</td>\n",
       "      <td>-0.638672</td>\n",
       "      <td>0.101288</td>\n",
       "      <td>-0.339846</td>\n",
       "      <td>0.167170</td>\n",
       "      <td>0.125895</td>\n",
       "      <td>-0.008983</td>\n",
       "      <td>0.014724</td>\n",
       "      <td>2.69</td>\n",
       "      <td>0</td>\n",
       "    </tr>\n",
       "    <tr>\n",
       "      <th>2</th>\n",
       "      <td>1.0</td>\n",
       "      <td>-1.358354</td>\n",
       "      <td>-1.340163</td>\n",
       "      <td>1.773209</td>\n",
       "      <td>0.379780</td>\n",
       "      <td>-0.503198</td>\n",
       "      <td>1.800499</td>\n",
       "      <td>0.791461</td>\n",
       "      <td>0.247676</td>\n",
       "      <td>-1.514654</td>\n",
       "      <td>...</td>\n",
       "      <td>0.247998</td>\n",
       "      <td>0.771679</td>\n",
       "      <td>0.909412</td>\n",
       "      <td>-0.689281</td>\n",
       "      <td>-0.327642</td>\n",
       "      <td>-0.139097</td>\n",
       "      <td>-0.055353</td>\n",
       "      <td>-0.059752</td>\n",
       "      <td>378.66</td>\n",
       "      <td>0</td>\n",
       "    </tr>\n",
       "    <tr>\n",
       "      <th>3</th>\n",
       "      <td>1.0</td>\n",
       "      <td>-0.966272</td>\n",
       "      <td>-0.185226</td>\n",
       "      <td>1.792993</td>\n",
       "      <td>-0.863291</td>\n",
       "      <td>-0.010309</td>\n",
       "      <td>1.247203</td>\n",
       "      <td>0.237609</td>\n",
       "      <td>0.377436</td>\n",
       "      <td>-1.387024</td>\n",
       "      <td>...</td>\n",
       "      <td>-0.108300</td>\n",
       "      <td>0.005274</td>\n",
       "      <td>-0.190321</td>\n",
       "      <td>-1.175575</td>\n",
       "      <td>0.647376</td>\n",
       "      <td>-0.221929</td>\n",
       "      <td>0.062723</td>\n",
       "      <td>0.061458</td>\n",
       "      <td>123.50</td>\n",
       "      <td>0</td>\n",
       "    </tr>\n",
       "    <tr>\n",
       "      <th>4</th>\n",
       "      <td>2.0</td>\n",
       "      <td>-1.158233</td>\n",
       "      <td>0.877737</td>\n",
       "      <td>1.548718</td>\n",
       "      <td>0.403034</td>\n",
       "      <td>-0.407193</td>\n",
       "      <td>0.095921</td>\n",
       "      <td>0.592941</td>\n",
       "      <td>-0.270533</td>\n",
       "      <td>0.817739</td>\n",
       "      <td>...</td>\n",
       "      <td>-0.009431</td>\n",
       "      <td>0.798278</td>\n",
       "      <td>-0.137458</td>\n",
       "      <td>0.141267</td>\n",
       "      <td>-0.206010</td>\n",
       "      <td>0.502292</td>\n",
       "      <td>0.219422</td>\n",
       "      <td>0.215153</td>\n",
       "      <td>69.99</td>\n",
       "      <td>0</td>\n",
       "    </tr>\n",
       "  </tbody>\n",
       "</table>\n",
       "<p>5 rows × 31 columns</p>\n",
       "</div>"
      ],
      "text/plain": [
       "   Time        V1        V2        V3        V4        V5        V6        V7  \\\n",
       "0   0.0 -1.359807 -0.072781  2.536347  1.378155 -0.338321  0.462388  0.239599   \n",
       "1   0.0  1.191857  0.266151  0.166480  0.448154  0.060018 -0.082361 -0.078803   \n",
       "2   1.0 -1.358354 -1.340163  1.773209  0.379780 -0.503198  1.800499  0.791461   \n",
       "3   1.0 -0.966272 -0.185226  1.792993 -0.863291 -0.010309  1.247203  0.237609   \n",
       "4   2.0 -1.158233  0.877737  1.548718  0.403034 -0.407193  0.095921  0.592941   \n",
       "\n",
       "         V8        V9  ...       V21       V22       V23       V24       V25  \\\n",
       "0  0.098698  0.363787  ... -0.018307  0.277838 -0.110474  0.066928  0.128539   \n",
       "1  0.085102 -0.255425  ... -0.225775 -0.638672  0.101288 -0.339846  0.167170   \n",
       "2  0.247676 -1.514654  ...  0.247998  0.771679  0.909412 -0.689281 -0.327642   \n",
       "3  0.377436 -1.387024  ... -0.108300  0.005274 -0.190321 -1.175575  0.647376   \n",
       "4 -0.270533  0.817739  ... -0.009431  0.798278 -0.137458  0.141267 -0.206010   \n",
       "\n",
       "        V26       V27       V28  Amount  Class  \n",
       "0 -0.189115  0.133558 -0.021053  149.62      0  \n",
       "1  0.125895 -0.008983  0.014724    2.69      0  \n",
       "2 -0.139097 -0.055353 -0.059752  378.66      0  \n",
       "3 -0.221929  0.062723  0.061458  123.50      0  \n",
       "4  0.502292  0.219422  0.215153   69.99      0  \n",
       "\n",
       "[5 rows x 31 columns]"
      ]
     },
     "execution_count": 9,
     "metadata": {},
     "output_type": "execute_result"
    }
   ],
   "source": [
    "legit.head()"
   ]
  },
  {
   "cell_type": "code",
   "execution_count": 10,
   "id": "fe94ffd0",
   "metadata": {
    "execution": {
     "iopub.execute_input": "2024-12-25T12:49:14.167073Z",
     "iopub.status.busy": "2024-12-25T12:49:14.166569Z",
     "iopub.status.idle": "2024-12-25T12:49:14.193854Z",
     "shell.execute_reply": "2024-12-25T12:49:14.192909Z"
    },
    "papermill": {
     "duration": 0.036043,
     "end_time": "2024-12-25T12:49:14.195581",
     "exception": false,
     "start_time": "2024-12-25T12:49:14.159538",
     "status": "completed"
    },
    "tags": []
   },
   "outputs": [
    {
     "data": {
      "text/plain": [
       "count    284315.000000\n",
       "mean         88.291022\n",
       "std         250.105092\n",
       "min           0.000000\n",
       "25%           5.650000\n",
       "50%          22.000000\n",
       "75%          77.050000\n",
       "max       25691.160000\n",
       "Name: Amount, dtype: float64"
      ]
     },
     "execution_count": 10,
     "metadata": {},
     "output_type": "execute_result"
    }
   ],
   "source": [
    "legit.Amount.describe()"
   ]
  },
  {
   "cell_type": "markdown",
   "id": "513f8ca7",
   "metadata": {
    "papermill": {
     "duration": 0.005762,
     "end_time": "2024-12-25T12:49:14.207525",
     "exception": false,
     "start_time": "2024-12-25T12:49:14.201763",
     "status": "completed"
    },
    "tags": []
   },
   "source": [
    "Doing an underSampling to get a uniformly distrubuted dataset for training the model"
   ]
  },
  {
   "cell_type": "code",
   "execution_count": 11,
   "id": "b8682b1b",
   "metadata": {
    "execution": {
     "iopub.execute_input": "2024-12-25T12:49:14.221546Z",
     "iopub.status.busy": "2024-12-25T12:49:14.221220Z",
     "iopub.status.idle": "2024-12-25T12:49:14.234302Z",
     "shell.execute_reply": "2024-12-25T12:49:14.233346Z"
    },
    "papermill": {
     "duration": 0.022207,
     "end_time": "2024-12-25T12:49:14.235948",
     "exception": false,
     "start_time": "2024-12-25T12:49:14.213741",
     "status": "completed"
    },
    "tags": []
   },
   "outputs": [],
   "source": [
    "legit_sample = legit.sample(n=492)"
   ]
  },
  {
   "cell_type": "code",
   "execution_count": 12,
   "id": "65ce0856",
   "metadata": {
    "execution": {
     "iopub.execute_input": "2024-12-25T12:49:14.249415Z",
     "iopub.status.busy": "2024-12-25T12:49:14.249090Z",
     "iopub.status.idle": "2024-12-25T12:49:14.254161Z",
     "shell.execute_reply": "2024-12-25T12:49:14.253208Z"
    },
    "papermill": {
     "duration": 0.01411,
     "end_time": "2024-12-25T12:49:14.256251",
     "exception": false,
     "start_time": "2024-12-25T12:49:14.242141",
     "status": "completed"
    },
    "tags": []
   },
   "outputs": [],
   "source": [
    "new_dataset = pd.concat([legit_sample, fraud], axis=0)"
   ]
  },
  {
   "cell_type": "code",
   "execution_count": 13,
   "id": "b76c27e1",
   "metadata": {
    "execution": {
     "iopub.execute_input": "2024-12-25T12:49:14.277696Z",
     "iopub.status.busy": "2024-12-25T12:49:14.277254Z",
     "iopub.status.idle": "2024-12-25T12:49:14.304874Z",
     "shell.execute_reply": "2024-12-25T12:49:14.303744Z"
    },
    "papermill": {
     "duration": 0.038898,
     "end_time": "2024-12-25T12:49:14.306506",
     "exception": false,
     "start_time": "2024-12-25T12:49:14.267608",
     "status": "completed"
    },
    "tags": []
   },
   "outputs": [
    {
     "data": {
      "text/html": [
       "<div>\n",
       "<style scoped>\n",
       "    .dataframe tbody tr th:only-of-type {\n",
       "        vertical-align: middle;\n",
       "    }\n",
       "\n",
       "    .dataframe tbody tr th {\n",
       "        vertical-align: top;\n",
       "    }\n",
       "\n",
       "    .dataframe thead th {\n",
       "        text-align: right;\n",
       "    }\n",
       "</style>\n",
       "<table border=\"1\" class=\"dataframe\">\n",
       "  <thead>\n",
       "    <tr style=\"text-align: right;\">\n",
       "      <th></th>\n",
       "      <th>Time</th>\n",
       "      <th>V1</th>\n",
       "      <th>V2</th>\n",
       "      <th>V3</th>\n",
       "      <th>V4</th>\n",
       "      <th>V5</th>\n",
       "      <th>V6</th>\n",
       "      <th>V7</th>\n",
       "      <th>V8</th>\n",
       "      <th>V9</th>\n",
       "      <th>...</th>\n",
       "      <th>V21</th>\n",
       "      <th>V22</th>\n",
       "      <th>V23</th>\n",
       "      <th>V24</th>\n",
       "      <th>V25</th>\n",
       "      <th>V26</th>\n",
       "      <th>V27</th>\n",
       "      <th>V28</th>\n",
       "      <th>Amount</th>\n",
       "      <th>Class</th>\n",
       "    </tr>\n",
       "  </thead>\n",
       "  <tbody>\n",
       "    <tr>\n",
       "      <th>104713</th>\n",
       "      <td>69201.0</td>\n",
       "      <td>1.333516</td>\n",
       "      <td>0.232075</td>\n",
       "      <td>-1.708534</td>\n",
       "      <td>-0.070691</td>\n",
       "      <td>2.556841</td>\n",
       "      <td>3.062609</td>\n",
       "      <td>-0.033861</td>\n",
       "      <td>0.647438</td>\n",
       "      <td>-0.400604</td>\n",
       "      <td>...</td>\n",
       "      <td>-0.051409</td>\n",
       "      <td>-0.243188</td>\n",
       "      <td>-0.179801</td>\n",
       "      <td>1.009996</td>\n",
       "      <td>1.009941</td>\n",
       "      <td>-0.280494</td>\n",
       "      <td>-0.005883</td>\n",
       "      <td>0.003857</td>\n",
       "      <td>1.00</td>\n",
       "      <td>0</td>\n",
       "    </tr>\n",
       "    <tr>\n",
       "      <th>177989</th>\n",
       "      <td>123425.0</td>\n",
       "      <td>-1.020174</td>\n",
       "      <td>-1.937650</td>\n",
       "      <td>0.626345</td>\n",
       "      <td>-2.875072</td>\n",
       "      <td>-0.322975</td>\n",
       "      <td>0.184931</td>\n",
       "      <td>-0.040866</td>\n",
       "      <td>0.163313</td>\n",
       "      <td>-2.124227</td>\n",
       "      <td>...</td>\n",
       "      <td>0.156367</td>\n",
       "      <td>0.165597</td>\n",
       "      <td>0.558695</td>\n",
       "      <td>0.154053</td>\n",
       "      <td>-0.185204</td>\n",
       "      <td>-0.332172</td>\n",
       "      <td>0.041647</td>\n",
       "      <td>0.180485</td>\n",
       "      <td>252.00</td>\n",
       "      <td>0</td>\n",
       "    </tr>\n",
       "    <tr>\n",
       "      <th>192972</th>\n",
       "      <td>129937.0</td>\n",
       "      <td>2.042533</td>\n",
       "      <td>0.131778</td>\n",
       "      <td>-2.405974</td>\n",
       "      <td>0.271686</td>\n",
       "      <td>0.827625</td>\n",
       "      <td>-1.539386</td>\n",
       "      <td>1.100037</td>\n",
       "      <td>-0.687558</td>\n",
       "      <td>-0.365321</td>\n",
       "      <td>...</td>\n",
       "      <td>0.322870</td>\n",
       "      <td>1.052241</td>\n",
       "      <td>-0.139890</td>\n",
       "      <td>1.244769</td>\n",
       "      <td>0.603922</td>\n",
       "      <td>0.955633</td>\n",
       "      <td>-0.147481</td>\n",
       "      <td>-0.076363</td>\n",
       "      <td>50.00</td>\n",
       "      <td>0</td>\n",
       "    </tr>\n",
       "    <tr>\n",
       "      <th>132429</th>\n",
       "      <td>79983.0</td>\n",
       "      <td>0.246569</td>\n",
       "      <td>0.528592</td>\n",
       "      <td>1.579652</td>\n",
       "      <td>0.692452</td>\n",
       "      <td>-0.739331</td>\n",
       "      <td>-0.126073</td>\n",
       "      <td>-0.281767</td>\n",
       "      <td>-0.946394</td>\n",
       "      <td>-0.040973</td>\n",
       "      <td>...</td>\n",
       "      <td>0.624501</td>\n",
       "      <td>-0.336627</td>\n",
       "      <td>-0.321252</td>\n",
       "      <td>0.544851</td>\n",
       "      <td>1.243994</td>\n",
       "      <td>1.511426</td>\n",
       "      <td>0.053764</td>\n",
       "      <td>0.140853</td>\n",
       "      <td>5.00</td>\n",
       "      <td>0</td>\n",
       "    </tr>\n",
       "    <tr>\n",
       "      <th>152936</th>\n",
       "      <td>97623.0</td>\n",
       "      <td>-1.825892</td>\n",
       "      <td>-5.839373</td>\n",
       "      <td>-1.172461</td>\n",
       "      <td>5.400981</td>\n",
       "      <td>-2.353924</td>\n",
       "      <td>1.736267</td>\n",
       "      <td>1.298039</td>\n",
       "      <td>-0.133386</td>\n",
       "      <td>0.857273</td>\n",
       "      <td>...</td>\n",
       "      <td>1.246467</td>\n",
       "      <td>-0.395380</td>\n",
       "      <td>-1.432411</td>\n",
       "      <td>-0.337946</td>\n",
       "      <td>-1.203602</td>\n",
       "      <td>-0.268376</td>\n",
       "      <td>-0.338807</td>\n",
       "      <td>0.291309</td>\n",
       "      <td>1888.43</td>\n",
       "      <td>0</td>\n",
       "    </tr>\n",
       "  </tbody>\n",
       "</table>\n",
       "<p>5 rows × 31 columns</p>\n",
       "</div>"
      ],
      "text/plain": [
       "            Time        V1        V2        V3        V4        V5        V6  \\\n",
       "104713   69201.0  1.333516  0.232075 -1.708534 -0.070691  2.556841  3.062609   \n",
       "177989  123425.0 -1.020174 -1.937650  0.626345 -2.875072 -0.322975  0.184931   \n",
       "192972  129937.0  2.042533  0.131778 -2.405974  0.271686  0.827625 -1.539386   \n",
       "132429   79983.0  0.246569  0.528592  1.579652  0.692452 -0.739331 -0.126073   \n",
       "152936   97623.0 -1.825892 -5.839373 -1.172461  5.400981 -2.353924  1.736267   \n",
       "\n",
       "              V7        V8        V9  ...       V21       V22       V23  \\\n",
       "104713 -0.033861  0.647438 -0.400604  ... -0.051409 -0.243188 -0.179801   \n",
       "177989 -0.040866  0.163313 -2.124227  ...  0.156367  0.165597  0.558695   \n",
       "192972  1.100037 -0.687558 -0.365321  ...  0.322870  1.052241 -0.139890   \n",
       "132429 -0.281767 -0.946394 -0.040973  ...  0.624501 -0.336627 -0.321252   \n",
       "152936  1.298039 -0.133386  0.857273  ...  1.246467 -0.395380 -1.432411   \n",
       "\n",
       "             V24       V25       V26       V27       V28   Amount  Class  \n",
       "104713  1.009996  1.009941 -0.280494 -0.005883  0.003857     1.00      0  \n",
       "177989  0.154053 -0.185204 -0.332172  0.041647  0.180485   252.00      0  \n",
       "192972  1.244769  0.603922  0.955633 -0.147481 -0.076363    50.00      0  \n",
       "132429  0.544851  1.243994  1.511426  0.053764  0.140853     5.00      0  \n",
       "152936 -0.337946 -1.203602 -0.268376 -0.338807  0.291309  1888.43      0  \n",
       "\n",
       "[5 rows x 31 columns]"
      ]
     },
     "execution_count": 13,
     "metadata": {},
     "output_type": "execute_result"
    }
   ],
   "source": [
    "new_dataset.head()"
   ]
  },
  {
   "cell_type": "code",
   "execution_count": 14,
   "id": "df739785",
   "metadata": {
    "execution": {
     "iopub.execute_input": "2024-12-25T12:49:14.320635Z",
     "iopub.status.busy": "2024-12-25T12:49:14.320310Z",
     "iopub.status.idle": "2024-12-25T12:49:14.327131Z",
     "shell.execute_reply": "2024-12-25T12:49:14.326234Z"
    },
    "papermill": {
     "duration": 0.015593,
     "end_time": "2024-12-25T12:49:14.328678",
     "exception": false,
     "start_time": "2024-12-25T12:49:14.313085",
     "status": "completed"
    },
    "tags": []
   },
   "outputs": [
    {
     "data": {
      "text/plain": [
       "Class\n",
       "0    492\n",
       "1    492\n",
       "Name: count, dtype: int64"
      ]
     },
     "execution_count": 14,
     "metadata": {},
     "output_type": "execute_result"
    }
   ],
   "source": [
    "new_dataset['Class'].value_counts()"
   ]
  },
  {
   "cell_type": "code",
   "execution_count": 15,
   "id": "15634d42",
   "metadata": {
    "execution": {
     "iopub.execute_input": "2024-12-25T12:49:14.343569Z",
     "iopub.status.busy": "2024-12-25T12:49:14.343132Z",
     "iopub.status.idle": "2024-12-25T12:49:14.377068Z",
     "shell.execute_reply": "2024-12-25T12:49:14.375515Z"
    },
    "papermill": {
     "duration": 0.04431,
     "end_time": "2024-12-25T12:49:14.379617",
     "exception": false,
     "start_time": "2024-12-25T12:49:14.335307",
     "status": "completed"
    },
    "tags": []
   },
   "outputs": [
    {
     "data": {
      "text/html": [
       "<div>\n",
       "<style scoped>\n",
       "    .dataframe tbody tr th:only-of-type {\n",
       "        vertical-align: middle;\n",
       "    }\n",
       "\n",
       "    .dataframe tbody tr th {\n",
       "        vertical-align: top;\n",
       "    }\n",
       "\n",
       "    .dataframe thead th {\n",
       "        text-align: right;\n",
       "    }\n",
       "</style>\n",
       "<table border=\"1\" class=\"dataframe\">\n",
       "  <thead>\n",
       "    <tr style=\"text-align: right;\">\n",
       "      <th></th>\n",
       "      <th>Time</th>\n",
       "      <th>V1</th>\n",
       "      <th>V2</th>\n",
       "      <th>V3</th>\n",
       "      <th>V4</th>\n",
       "      <th>V5</th>\n",
       "      <th>V6</th>\n",
       "      <th>V7</th>\n",
       "      <th>V8</th>\n",
       "      <th>V9</th>\n",
       "      <th>...</th>\n",
       "      <th>V20</th>\n",
       "      <th>V21</th>\n",
       "      <th>V22</th>\n",
       "      <th>V23</th>\n",
       "      <th>V24</th>\n",
       "      <th>V25</th>\n",
       "      <th>V26</th>\n",
       "      <th>V27</th>\n",
       "      <th>V28</th>\n",
       "      <th>Amount</th>\n",
       "    </tr>\n",
       "    <tr>\n",
       "      <th>Class</th>\n",
       "      <th></th>\n",
       "      <th></th>\n",
       "      <th></th>\n",
       "      <th></th>\n",
       "      <th></th>\n",
       "      <th></th>\n",
       "      <th></th>\n",
       "      <th></th>\n",
       "      <th></th>\n",
       "      <th></th>\n",
       "      <th></th>\n",
       "      <th></th>\n",
       "      <th></th>\n",
       "      <th></th>\n",
       "      <th></th>\n",
       "      <th></th>\n",
       "      <th></th>\n",
       "      <th></th>\n",
       "      <th></th>\n",
       "      <th></th>\n",
       "      <th></th>\n",
       "    </tr>\n",
       "  </thead>\n",
       "  <tbody>\n",
       "    <tr>\n",
       "      <th>0</th>\n",
       "      <td>97289.804878</td>\n",
       "      <td>-0.060664</td>\n",
       "      <td>-0.004973</td>\n",
       "      <td>-0.008056</td>\n",
       "      <td>-0.060339</td>\n",
       "      <td>0.079991</td>\n",
       "      <td>-0.124148</td>\n",
       "      <td>0.033124</td>\n",
       "      <td>-0.060105</td>\n",
       "      <td>0.026638</td>\n",
       "      <td>...</td>\n",
       "      <td>0.015108</td>\n",
       "      <td>0.007354</td>\n",
       "      <td>-0.005204</td>\n",
       "      <td>-0.083315</td>\n",
       "      <td>-0.006771</td>\n",
       "      <td>-0.025368</td>\n",
       "      <td>0.000899</td>\n",
       "      <td>0.011671</td>\n",
       "      <td>-0.014814</td>\n",
       "      <td>91.013130</td>\n",
       "    </tr>\n",
       "    <tr>\n",
       "      <th>1</th>\n",
       "      <td>80746.806911</td>\n",
       "      <td>-4.771948</td>\n",
       "      <td>3.623778</td>\n",
       "      <td>-7.033281</td>\n",
       "      <td>4.542029</td>\n",
       "      <td>-3.151225</td>\n",
       "      <td>-1.397737</td>\n",
       "      <td>-5.568731</td>\n",
       "      <td>0.570636</td>\n",
       "      <td>-2.581123</td>\n",
       "      <td>...</td>\n",
       "      <td>0.372319</td>\n",
       "      <td>0.713588</td>\n",
       "      <td>0.014049</td>\n",
       "      <td>-0.040308</td>\n",
       "      <td>-0.105130</td>\n",
       "      <td>0.041449</td>\n",
       "      <td>0.051648</td>\n",
       "      <td>0.170575</td>\n",
       "      <td>0.075667</td>\n",
       "      <td>122.211321</td>\n",
       "    </tr>\n",
       "  </tbody>\n",
       "</table>\n",
       "<p>2 rows × 30 columns</p>\n",
       "</div>"
      ],
      "text/plain": [
       "               Time        V1        V2        V3        V4        V5  \\\n",
       "Class                                                                   \n",
       "0      97289.804878 -0.060664 -0.004973 -0.008056 -0.060339  0.079991   \n",
       "1      80746.806911 -4.771948  3.623778 -7.033281  4.542029 -3.151225   \n",
       "\n",
       "             V6        V7        V8        V9  ...       V20       V21  \\\n",
       "Class                                          ...                       \n",
       "0     -0.124148  0.033124 -0.060105  0.026638  ...  0.015108  0.007354   \n",
       "1     -1.397737 -5.568731  0.570636 -2.581123  ...  0.372319  0.713588   \n",
       "\n",
       "            V22       V23       V24       V25       V26       V27       V28  \\\n",
       "Class                                                                         \n",
       "0     -0.005204 -0.083315 -0.006771 -0.025368  0.000899  0.011671 -0.014814   \n",
       "1      0.014049 -0.040308 -0.105130  0.041449  0.051648  0.170575  0.075667   \n",
       "\n",
       "           Amount  \n",
       "Class              \n",
       "0       91.013130  \n",
       "1      122.211321  \n",
       "\n",
       "[2 rows x 30 columns]"
      ]
     },
     "execution_count": 15,
     "metadata": {},
     "output_type": "execute_result"
    }
   ],
   "source": [
    "new_dataset.groupby('Class').mean()"
   ]
  },
  {
   "cell_type": "code",
   "execution_count": 16,
   "id": "a820dc2b",
   "metadata": {
    "execution": {
     "iopub.execute_input": "2024-12-25T12:49:14.406103Z",
     "iopub.status.busy": "2024-12-25T12:49:14.405623Z",
     "iopub.status.idle": "2024-12-25T12:49:14.411628Z",
     "shell.execute_reply": "2024-12-25T12:49:14.410411Z"
    },
    "papermill": {
     "duration": 0.021281,
     "end_time": "2024-12-25T12:49:14.413589",
     "exception": false,
     "start_time": "2024-12-25T12:49:14.392308",
     "status": "completed"
    },
    "tags": []
   },
   "outputs": [],
   "source": [
    "#Splitting \n",
    "X = new_dataset.drop(columns='Class', axis=1)\n",
    "Y = new_dataset['Class']"
   ]
  },
  {
   "cell_type": "code",
   "execution_count": 17,
   "id": "e54f87db",
   "metadata": {
    "execution": {
     "iopub.execute_input": "2024-12-25T12:49:14.428768Z",
     "iopub.status.busy": "2024-12-25T12:49:14.428344Z",
     "iopub.status.idle": "2024-12-25T12:49:14.437104Z",
     "shell.execute_reply": "2024-12-25T12:49:14.436050Z"
    },
    "papermill": {
     "duration": 0.018162,
     "end_time": "2024-12-25T12:49:14.439003",
     "exception": false,
     "start_time": "2024-12-25T12:49:14.420841",
     "status": "completed"
    },
    "tags": []
   },
   "outputs": [],
   "source": [
    "#training\n",
    "X_train, X_test, Y_train, Y_test = train_test_split(X, Y, test_size=0.2, stratify=Y, random_state=2)"
   ]
  },
  {
   "cell_type": "code",
   "execution_count": 18,
   "id": "f781f6f5",
   "metadata": {
    "execution": {
     "iopub.execute_input": "2024-12-25T12:49:14.461186Z",
     "iopub.status.busy": "2024-12-25T12:49:14.460685Z",
     "iopub.status.idle": "2024-12-25T12:49:14.465219Z",
     "shell.execute_reply": "2024-12-25T12:49:14.464224Z"
    },
    "papermill": {
     "duration": 0.015746,
     "end_time": "2024-12-25T12:49:14.467129",
     "exception": false,
     "start_time": "2024-12-25T12:49:14.451383",
     "status": "completed"
    },
    "tags": []
   },
   "outputs": [],
   "source": [
    "model = LogisticRegression()"
   ]
  },
  {
   "cell_type": "code",
   "execution_count": 19,
   "id": "eff8d75f",
   "metadata": {
    "execution": {
     "iopub.execute_input": "2024-12-25T12:49:14.493667Z",
     "iopub.status.busy": "2024-12-25T12:49:14.493175Z",
     "iopub.status.idle": "2024-12-25T12:49:14.665479Z",
     "shell.execute_reply": "2024-12-25T12:49:14.662753Z"
    },
    "papermill": {
     "duration": 0.188939,
     "end_time": "2024-12-25T12:49:14.668540",
     "exception": false,
     "start_time": "2024-12-25T12:49:14.479601",
     "status": "completed"
    },
    "tags": []
   },
   "outputs": [
    {
     "data": {
      "text/html": [
       "<style>#sk-container-id-1 {color: black;background-color: white;}#sk-container-id-1 pre{padding: 0;}#sk-container-id-1 div.sk-toggleable {background-color: white;}#sk-container-id-1 label.sk-toggleable__label {cursor: pointer;display: block;width: 100%;margin-bottom: 0;padding: 0.3em;box-sizing: border-box;text-align: center;}#sk-container-id-1 label.sk-toggleable__label-arrow:before {content: \"▸\";float: left;margin-right: 0.25em;color: #696969;}#sk-container-id-1 label.sk-toggleable__label-arrow:hover:before {color: black;}#sk-container-id-1 div.sk-estimator:hover label.sk-toggleable__label-arrow:before {color: black;}#sk-container-id-1 div.sk-toggleable__content {max-height: 0;max-width: 0;overflow: hidden;text-align: left;background-color: #f0f8ff;}#sk-container-id-1 div.sk-toggleable__content pre {margin: 0.2em;color: black;border-radius: 0.25em;background-color: #f0f8ff;}#sk-container-id-1 input.sk-toggleable__control:checked~div.sk-toggleable__content {max-height: 200px;max-width: 100%;overflow: auto;}#sk-container-id-1 input.sk-toggleable__control:checked~label.sk-toggleable__label-arrow:before {content: \"▾\";}#sk-container-id-1 div.sk-estimator input.sk-toggleable__control:checked~label.sk-toggleable__label {background-color: #d4ebff;}#sk-container-id-1 div.sk-label input.sk-toggleable__control:checked~label.sk-toggleable__label {background-color: #d4ebff;}#sk-container-id-1 input.sk-hidden--visually {border: 0;clip: rect(1px 1px 1px 1px);clip: rect(1px, 1px, 1px, 1px);height: 1px;margin: -1px;overflow: hidden;padding: 0;position: absolute;width: 1px;}#sk-container-id-1 div.sk-estimator {font-family: monospace;background-color: #f0f8ff;border: 1px dotted black;border-radius: 0.25em;box-sizing: border-box;margin-bottom: 0.5em;}#sk-container-id-1 div.sk-estimator:hover {background-color: #d4ebff;}#sk-container-id-1 div.sk-parallel-item::after {content: \"\";width: 100%;border-bottom: 1px solid gray;flex-grow: 1;}#sk-container-id-1 div.sk-label:hover label.sk-toggleable__label {background-color: #d4ebff;}#sk-container-id-1 div.sk-serial::before {content: \"\";position: absolute;border-left: 1px solid gray;box-sizing: border-box;top: 0;bottom: 0;left: 50%;z-index: 0;}#sk-container-id-1 div.sk-serial {display: flex;flex-direction: column;align-items: center;background-color: white;padding-right: 0.2em;padding-left: 0.2em;position: relative;}#sk-container-id-1 div.sk-item {position: relative;z-index: 1;}#sk-container-id-1 div.sk-parallel {display: flex;align-items: stretch;justify-content: center;background-color: white;position: relative;}#sk-container-id-1 div.sk-item::before, #sk-container-id-1 div.sk-parallel-item::before {content: \"\";position: absolute;border-left: 1px solid gray;box-sizing: border-box;top: 0;bottom: 0;left: 50%;z-index: -1;}#sk-container-id-1 div.sk-parallel-item {display: flex;flex-direction: column;z-index: 1;position: relative;background-color: white;}#sk-container-id-1 div.sk-parallel-item:first-child::after {align-self: flex-end;width: 50%;}#sk-container-id-1 div.sk-parallel-item:last-child::after {align-self: flex-start;width: 50%;}#sk-container-id-1 div.sk-parallel-item:only-child::after {width: 0;}#sk-container-id-1 div.sk-dashed-wrapped {border: 1px dashed gray;margin: 0 0.4em 0.5em 0.4em;box-sizing: border-box;padding-bottom: 0.4em;background-color: white;}#sk-container-id-1 div.sk-label label {font-family: monospace;font-weight: bold;display: inline-block;line-height: 1.2em;}#sk-container-id-1 div.sk-label-container {text-align: center;}#sk-container-id-1 div.sk-container {/* jupyter's `normalize.less` sets `[hidden] { display: none; }` but bootstrap.min.css set `[hidden] { display: none !important; }` so we also need the `!important` here to be able to override the default hidden behavior on the sphinx rendered scikit-learn.org. See: https://github.com/scikit-learn/scikit-learn/issues/21755 */display: inline-block !important;position: relative;}#sk-container-id-1 div.sk-text-repr-fallback {display: none;}</style><div id=\"sk-container-id-1\" class=\"sk-top-container\"><div class=\"sk-text-repr-fallback\"><pre>LogisticRegression()</pre><b>In a Jupyter environment, please rerun this cell to show the HTML representation or trust the notebook. <br />On GitHub, the HTML representation is unable to render, please try loading this page with nbviewer.org.</b></div><div class=\"sk-container\" hidden><div class=\"sk-item\"><div class=\"sk-estimator sk-toggleable\"><input class=\"sk-toggleable__control sk-hidden--visually\" id=\"sk-estimator-id-1\" type=\"checkbox\" checked><label for=\"sk-estimator-id-1\" class=\"sk-toggleable__label sk-toggleable__label-arrow\">LogisticRegression</label><div class=\"sk-toggleable__content\"><pre>LogisticRegression()</pre></div></div></div></div></div>"
      ],
      "text/plain": [
       "LogisticRegression()"
      ]
     },
     "execution_count": 19,
     "metadata": {},
     "output_type": "execute_result"
    }
   ],
   "source": [
    "model.fit(X_train, Y_train)"
   ]
  },
  {
   "cell_type": "code",
   "execution_count": 20,
   "id": "63ed37b2",
   "metadata": {
    "execution": {
     "iopub.execute_input": "2024-12-25T12:49:14.727985Z",
     "iopub.status.busy": "2024-12-25T12:49:14.727474Z",
     "iopub.status.idle": "2024-12-25T12:49:14.745732Z",
     "shell.execute_reply": "2024-12-25T12:49:14.743969Z"
    },
    "papermill": {
     "duration": 0.050418,
     "end_time": "2024-12-25T12:49:14.749541",
     "exception": false,
     "start_time": "2024-12-25T12:49:14.699123",
     "status": "completed"
    },
    "tags": []
   },
   "outputs": [],
   "source": [
    "# accuracy on training data\n",
    "X_train_prediction = model.predict(X_train)\n",
    "training_data_accuracy = accuracy_score(X_train_prediction, Y_train)"
   ]
  },
  {
   "cell_type": "code",
   "execution_count": 21,
   "id": "ff5791fc",
   "metadata": {
    "execution": {
     "iopub.execute_input": "2024-12-25T12:49:14.779597Z",
     "iopub.status.busy": "2024-12-25T12:49:14.779178Z",
     "iopub.status.idle": "2024-12-25T12:49:14.791338Z",
     "shell.execute_reply": "2024-12-25T12:49:14.789856Z"
    },
    "papermill": {
     "duration": 0.027946,
     "end_time": "2024-12-25T12:49:14.793380",
     "exception": false,
     "start_time": "2024-12-25T12:49:14.765434",
     "status": "completed"
    },
    "tags": []
   },
   "outputs": [
    {
     "name": "stdout",
     "output_type": "stream",
     "text": [
      "Accuracy on Training data :  0.9415501905972046\n"
     ]
    }
   ],
   "source": [
    "print('Accuracy on Training data : ', training_data_accuracy)"
   ]
  },
  {
   "cell_type": "code",
   "execution_count": 22,
   "id": "2c1692d6",
   "metadata": {
    "execution": {
     "iopub.execute_input": "2024-12-25T12:49:14.849082Z",
     "iopub.status.busy": "2024-12-25T12:49:14.848608Z",
     "iopub.status.idle": "2024-12-25T12:49:14.865774Z",
     "shell.execute_reply": "2024-12-25T12:49:14.864893Z"
    },
    "papermill": {
     "duration": 0.049194,
     "end_time": "2024-12-25T12:49:14.867481",
     "exception": false,
     "start_time": "2024-12-25T12:49:14.818287",
     "status": "completed"
    },
    "tags": []
   },
   "outputs": [],
   "source": [
    "# accuracy on test data\n",
    "X_test_prediction = model.predict(X_test)\n",
    "test_data_accuracy = accuracy_score(X_test_prediction, Y_test)"
   ]
  },
  {
   "cell_type": "code",
   "execution_count": 23,
   "id": "9a21adbd",
   "metadata": {
    "execution": {
     "iopub.execute_input": "2024-12-25T12:49:14.882573Z",
     "iopub.status.busy": "2024-12-25T12:49:14.882250Z",
     "iopub.status.idle": "2024-12-25T12:49:14.887167Z",
     "shell.execute_reply": "2024-12-25T12:49:14.886100Z"
    },
    "papermill": {
     "duration": 0.014207,
     "end_time": "2024-12-25T12:49:14.888821",
     "exception": false,
     "start_time": "2024-12-25T12:49:14.874614",
     "status": "completed"
    },
    "tags": []
   },
   "outputs": [
    {
     "name": "stdout",
     "output_type": "stream",
     "text": [
      "Accuracy score on Test Data :  0.9187817258883249\n"
     ]
    }
   ],
   "source": [
    "print('Accuracy score on Test Data : ', test_data_accuracy)"
   ]
  },
  {
   "cell_type": "code",
   "execution_count": null,
   "id": "7a2b57e8",
   "metadata": {
    "papermill": {
     "duration": 0.006443,
     "end_time": "2024-12-25T12:49:14.902109",
     "exception": false,
     "start_time": "2024-12-25T12:49:14.895666",
     "status": "completed"
    },
    "tags": []
   },
   "outputs": [],
   "source": []
  }
 ],
 "metadata": {
  "kaggle": {
   "accelerator": "none",
   "dataSources": [
    {
     "datasetId": 310,
     "sourceId": 23498,
     "sourceType": "datasetVersion"
    }
   ],
   "dockerImageVersionId": 30822,
   "isGpuEnabled": false,
   "isInternetEnabled": false,
   "language": "python",
   "sourceType": "notebook"
  },
  "kernelspec": {
   "display_name": "Python 3",
   "language": "python",
   "name": "python3"
  },
  "language_info": {
   "codemirror_mode": {
    "name": "ipython",
    "version": 3
   },
   "file_extension": ".py",
   "mimetype": "text/x-python",
   "name": "python",
   "nbconvert_exporter": "python",
   "pygments_lexer": "ipython3",
   "version": "3.10.12"
  },
  "papermill": {
   "default_parameters": {},
   "duration": 9.77749,
   "end_time": "2024-12-25T12:49:15.527694",
   "environment_variables": {},
   "exception": null,
   "input_path": "__notebook__.ipynb",
   "output_path": "__notebook__.ipynb",
   "parameters": {},
   "start_time": "2024-12-25T12:49:05.750204",
   "version": "2.6.0"
  }
 },
 "nbformat": 4,
 "nbformat_minor": 5
}
